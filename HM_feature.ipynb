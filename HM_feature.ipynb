{
 "cells": [
  {
   "cell_type": "markdown",
   "metadata": {},
   "source": [
    "# LFM"
   ]
  },
  {
   "cell_type": "code",
   "execution_count": null,
   "metadata": {},
   "outputs": [],
   "source": [
    "import os\n",
    "import pickle\n",
    "from pathlib import Path\n",
    "import pandas as pd\n",
    "from lightfm import LightFM # https://github.com/lyst/lightfm\n",
    "from scipy import sparse\n",
    "\n",
    "\n",
    "data_dir = '/home/workspace/h-and-m-personalized-fashion-recommendations'\n",
    "os.makedirs(f\"{data_dir}/lfm\", exist_ok=True)\n",
    "\n",
    "LIGHTFM_PARAMS = {\n",
    "    'learning_schedule': 'adadelta', \n",
    "    'loss': 'bpr', \n",
    "    'learning_rate': 0.005, \n",
    "    'random_state': 42, \n",
    "}\n",
    "\n",
    "EPOCHS = 100 \n",
    "\n",
    "def user_item(week: int, dim: int):\n",
    "\n",
    "    path_prefix = f\"{data_dir}/lfm/lfm_i_i_week{week}_dim{dim}\" \n",
    "    print(path_prefix) \n",
    "    transactions = pd.read_pickle(f\"{data_dir}/transactions_train.pkl\") \n",
    "    users = pd.read_pickle(f\"{data_dir}/users.pkl\") \n",
    "    items = pd.read_pickle(f\"{data_dir}/items.pkl\") \n",
    "    n_user = len(users) \n",
    "    n_item = len(items)\n",
    "    a = transactions.query(\"@week <= week\")[['user', 'item']].drop_duplicates(ignore_index=True) \n",
    "    a_train = sparse.lil_matrix((n_user, n_item)) \n",
    "    a_train[a['user'], a['item']] = 1 \n",
    "\n",
    "    lightfm_params = LIGHTFM_PARAMS.copy() \n",
    "    lightfm_params['no_components'] = dim \n",
    "    model = LightFM(**lightfm_params) \n",
    "    model.fit(a_train, epochs=EPOCHS, num_threads=4, verbose=True) \n",
    "\n",
    "    save_path = f\"{path_prefix}_model.pkl\"\n",
    "    with open(save_path, 'wb') as f:\n",
    "        pickle.dump(model, f)\n",
    "\n",
    "        \n",
    "\n",
    "for week in range(1, 14):\n",
    "    user_item(week, 16)"
   ]
  },
  {
   "cell_type": "markdown",
   "metadata": {},
   "source": [
    "# user_features"
   ]
  },
  {
   "cell_type": "code",
   "execution_count": null,
   "metadata": {},
   "outputs": [],
   "source": [
    "import os\n",
    "from pathlib import Path\n",
    "import pandas as pd\n",
    "import vaex \n",
    "\n",
    "\n",
    "data_dir = '/home/workspace/h-and-m-personalized-fashion-recommendations'\n",
    "os.makedirs(f\"{data_dir}/user_features\", exist_ok=True)\n",
    "\n",
    "def create_user_ohe_agg(week):\n",
    "\n",
    "    transactions = pd.read_pickle(f'{data_dir}/transactions_train.pkl')[['user', 'item', 'week']] \n",
    "    users = pd.read_pickle(f'{data_dir}/users.pkl') \n",
    "    items = pd.read_pickle(f'{data_dir}/items.pkl') \n",
    "\n",
    "    tr = vaex.from_pandas(transactions.query(\"week >= @week\")[['user', 'item']]) \n",
    "\n",
    "    target_columns = [c for c in items.columns if c.endswith('_idx')] \n",
    "    for c in target_columns:\n",
    "        tmp = tr.join(vaex.from_pandas(pd.get_dummies(items[['item', c]], columns=[c])), on='item') \n",
    "        tmp = tmp.drop(columns='item') \n",
    "\n",
    "        tmp = tmp.groupby('user').agg(['mean']) \n",
    "\n",
    "        users = vaex.from_pandas(users[['user']]).join(tmp, on='user', how='left').to_pandas_df() \n",
    "        users = users.rename(columns={\n",
    "            c: f'user_ohe_agg_{c}' for c in users.columns if c != 'user'\n",
    "        })\n",
    "\n",
    "        users = users.sort_values(by='user').reset_index(drop=True) \n",
    "\n",
    "        save_path = f'{data_dir}/user_features/user_ohe_agg_week{week}_{c}.pkl' \n",
    "        users.to_pickle(save_path) \n",
    "        print(\"saved\", save_path)\n",
    "\n",
    "\n",
    "for week in range(14):\n",
    "    create_user_ohe_agg(week)"
   ]
  }
 ],
 "metadata": {
  "kernelspec": {
   "display_name": "Python 3",
   "language": "python",
   "name": "python3"
  },
  "language_info": {
   "codemirror_mode": {
    "name": "ipython",
    "version": 3
   },
   "file_extension": ".py",
   "mimetype": "text/x-python",
   "name": "python",
   "nbconvert_exporter": "python",
   "pygments_lexer": "ipython3",
   "version": "3.8.8"
  },
  "toc": {
   "base_numbering": 1,
   "nav_menu": {},
   "number_sections": true,
   "sideBar": true,
   "skip_h1_title": false,
   "title_cell": "Table of Contents",
   "title_sidebar": "Contents",
   "toc_cell": false,
   "toc_position": {},
   "toc_section_display": true,
   "toc_window_display": false
  }
 },
 "nbformat": 4,
 "nbformat_minor": 2
}
